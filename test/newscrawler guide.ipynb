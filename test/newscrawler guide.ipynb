{
 "cells": [
  {
   "cell_type": "code",
   "execution_count": 1,
   "metadata": {},
   "outputs": [],
   "source": [
    "%load_ext autoreload\n",
    "%autoreload\n",
    "%matplotlib inline\n",
    "\n",
    "import os\n",
    "import sys\n",
    "parentdir = os.path.abspath(os.path.join(os.getcwd(), os.pardir))\n",
    "sys.path.append(parentdir)\n",
    "\n",
    "from newscrawler import NewsCrawler\n",
    "from IPython.display import display\n",
    "from IPython.core.debugger import set_trace"
   ]
  },
  {
   "cell_type": "markdown",
   "metadata": {},
   "source": [
    "# 0. 초기화"
   ]
  },
  {
   "cell_type": "code",
   "execution_count": 8,
   "metadata": {},
   "outputs": [
    {
     "name": "stdout",
     "output_type": "stream",
     "text": [
      "checking bigquery storage... done (28.56 seconds)\n",
      "we have total 371169 articles (328816 downloaded, 42353 trashed)\n"
     ]
    }
   ],
   "source": [
    "crawler = NewsCrawler(storage='bigquery')"
   ]
  },
  {
   "cell_type": "markdown",
   "metadata": {},
   "source": [
    "# 1. URL을 모은다"
   ]
  },
  {
   "cell_type": "code",
   "execution_count": 18,
   "metadata": {},
   "outputs": [],
   "source": [
    "# 제거고려: nextbigfuture, nbcnews, joongang, chosun"
   ]
  },
  {
   "cell_type": "code",
   "execution_count": 4,
   "metadata": {
    "scrolled": true
   },
   "outputs": [
    {
     "name": "stdout",
     "output_type": "stream",
     "text": [
      "100.00% (113.21 seconds): Collecting URLs... yahoo               \n",
      "\n",
      "100.00% (0.12 seconds): Selecting URLs... cryptonews          "
     ]
    },
    {
     "data": {
      "text/html": [
       "<div>\n",
       "<style scoped>\n",
       "    .dataframe tbody tr th:only-of-type {\n",
       "        vertical-align: middle;\n",
       "    }\n",
       "\n",
       "    .dataframe tbody tr th {\n",
       "        vertical-align: top;\n",
       "    }\n",
       "\n",
       "    .dataframe thead th {\n",
       "        text-align: right;\n",
       "    }\n",
       "</style>\n",
       "<table border=\"1\" class=\"dataframe\">\n",
       "  <thead>\n",
       "    <tr style=\"text-align: right;\">\n",
       "      <th></th>\n",
       "      <th>collected</th>\n",
       "      <th>collected_unique</th>\n",
       "      <th>selected</th>\n",
       "    </tr>\n",
       "  </thead>\n",
       "  <tbody>\n",
       "    <tr>\n",
       "      <td>all</td>\n",
       "      <td>26112</td>\n",
       "      <td>26039</td>\n",
       "      <td>348</td>\n",
       "    </tr>\n",
       "    <tr>\n",
       "      <td>reuters</td>\n",
       "      <td>1072</td>\n",
       "      <td>1072</td>\n",
       "      <td>43</td>\n",
       "    </tr>\n",
       "    <tr>\n",
       "      <td>investing.com</td>\n",
       "      <td>908</td>\n",
       "      <td>908</td>\n",
       "      <td>38</td>\n",
       "    </tr>\n",
       "    <tr>\n",
       "      <td>yahoo</td>\n",
       "      <td>361</td>\n",
       "      <td>361</td>\n",
       "      <td>37</td>\n",
       "    </tr>\n",
       "    <tr>\n",
       "      <td>dailymail</td>\n",
       "      <td>2740</td>\n",
       "      <td>2740</td>\n",
       "      <td>27</td>\n",
       "    </tr>\n",
       "    <tr>\n",
       "      <td>...</td>\n",
       "      <td>...</td>\n",
       "      <td>...</td>\n",
       "      <td>...</td>\n",
       "    </tr>\n",
       "    <tr>\n",
       "      <td>techcrunch</td>\n",
       "      <td>20</td>\n",
       "      <td>20</td>\n",
       "      <td>0</td>\n",
       "    </tr>\n",
       "    <tr>\n",
       "      <td>morningstar</td>\n",
       "      <td>108</td>\n",
       "      <td>108</td>\n",
       "      <td>0</td>\n",
       "    </tr>\n",
       "    <tr>\n",
       "      <td>bbc</td>\n",
       "      <td>277</td>\n",
       "      <td>277</td>\n",
       "      <td>0</td>\n",
       "    </tr>\n",
       "    <tr>\n",
       "      <td>nbcnews</td>\n",
       "      <td>178</td>\n",
       "      <td>177</td>\n",
       "      <td>0</td>\n",
       "    </tr>\n",
       "    <tr>\n",
       "      <td>cryptonews</td>\n",
       "      <td>328</td>\n",
       "      <td>328</td>\n",
       "      <td>0</td>\n",
       "    </tr>\n",
       "  </tbody>\n",
       "</table>\n",
       "<p>74 rows × 3 columns</p>\n",
       "</div>"
      ],
      "text/plain": [
       "               collected  collected_unique  selected\n",
       "all                26112             26039       348\n",
       "reuters             1072              1072        43\n",
       "investing.com        908               908        38\n",
       "yahoo                361               361        37\n",
       "dailymail           2740              2740        27\n",
       "...                  ...               ...       ...\n",
       "techcrunch            20                20         0\n",
       "morningstar          108               108         0\n",
       "bbc                  277               277         0\n",
       "nbcnews              178               177         0\n",
       "cryptonews           328               328         0\n",
       "\n",
       "[74 rows x 3 columns]"
      ]
     },
     "metadata": {},
     "output_type": "display_data"
    },
    {
     "data": {
      "text/html": [
       "<div>\n",
       "<style scoped>\n",
       "    .dataframe tbody tr th:only-of-type {\n",
       "        vertical-align: middle;\n",
       "    }\n",
       "\n",
       "    .dataframe tbody tr th {\n",
       "        vertical-align: top;\n",
       "    }\n",
       "\n",
       "    .dataframe thead th {\n",
       "        text-align: right;\n",
       "    }\n",
       "</style>\n",
       "<table border=\"1\" class=\"dataframe\">\n",
       "  <thead>\n",
       "    <tr style=\"text-align: right;\">\n",
       "      <th></th>\n",
       "      <th>url</th>\n",
       "      <th>pubs</th>\n",
       "      <th>actual_pub</th>\n",
       "    </tr>\n",
       "  </thead>\n",
       "  <tbody>\n",
       "    <tr>\n",
       "      <td>0</td>\n",
       "      <td>https://politico.com/news/2019/11/02/trump-hos...</td>\n",
       "      <td>politico, realclearpolitics</td>\n",
       "      <td>politico</td>\n",
       "    </tr>\n",
       "    <tr>\n",
       "      <td>1</td>\n",
       "      <td>https://politico.com/magazine/story/2019/10/30...</td>\n",
       "      <td>politico, realclearpolitics</td>\n",
       "      <td>politico</td>\n",
       "    </tr>\n",
       "    <tr>\n",
       "      <td>2</td>\n",
       "      <td>https://politico.com/news/2019/11/02/beto-orou...</td>\n",
       "      <td>politico, realclearpolitics</td>\n",
       "      <td>politico</td>\n",
       "    </tr>\n",
       "    <tr>\n",
       "      <td>3</td>\n",
       "      <td>https://politico.com/magazine/story/2019/10/23...</td>\n",
       "      <td>politico, realclearpolitics</td>\n",
       "      <td>politico</td>\n",
       "    </tr>\n",
       "    <tr>\n",
       "      <td>4</td>\n",
       "      <td>https://politico.com/magazine/story/2019/11/01...</td>\n",
       "      <td>politico, realclearpolitics</td>\n",
       "      <td>politico</td>\n",
       "    </tr>\n",
       "    <tr>\n",
       "      <td>...</td>\n",
       "      <td>...</td>\n",
       "      <td>...</td>\n",
       "      <td>...</td>\n",
       "    </tr>\n",
       "    <tr>\n",
       "      <td>68</td>\n",
       "      <td>https://nbcnews.com/politics/trump-impeachment...</td>\n",
       "      <td>msnbc, nbcnews</td>\n",
       "      <td>nbcnews</td>\n",
       "    </tr>\n",
       "    <tr>\n",
       "      <td>69</td>\n",
       "      <td>https://nbcnews.com/news/us-news/florida-teen-...</td>\n",
       "      <td>msnbc, nbcnews</td>\n",
       "      <td>nbcnews</td>\n",
       "    </tr>\n",
       "    <tr>\n",
       "      <td>70</td>\n",
       "      <td>https://nbcnews.com/health/health-care/former-...</td>\n",
       "      <td>msnbc, nbcnews</td>\n",
       "      <td>nbcnews</td>\n",
       "    </tr>\n",
       "    <tr>\n",
       "      <td>71</td>\n",
       "      <td>https://nbcnews.com/news/world/massive-ship-st...</td>\n",
       "      <td>msnbc, nbcnews</td>\n",
       "      <td>nbcnews</td>\n",
       "    </tr>\n",
       "    <tr>\n",
       "      <td>72</td>\n",
       "      <td>https://nbcnews.com/news/world/human-rights-gr...</td>\n",
       "      <td>msnbc, nbcnews</td>\n",
       "      <td>nbcnews</td>\n",
       "    </tr>\n",
       "  </tbody>\n",
       "</table>\n",
       "<p>73 rows × 3 columns</p>\n",
       "</div>"
      ],
      "text/plain": [
       "                                                  url  \\\n",
       "0   https://politico.com/news/2019/11/02/trump-hos...   \n",
       "1   https://politico.com/magazine/story/2019/10/30...   \n",
       "2   https://politico.com/news/2019/11/02/beto-orou...   \n",
       "3   https://politico.com/magazine/story/2019/10/23...   \n",
       "4   https://politico.com/magazine/story/2019/11/01...   \n",
       "..                                                ...   \n",
       "68  https://nbcnews.com/politics/trump-impeachment...   \n",
       "69  https://nbcnews.com/news/us-news/florida-teen-...   \n",
       "70  https://nbcnews.com/health/health-care/former-...   \n",
       "71  https://nbcnews.com/news/world/massive-ship-st...   \n",
       "72  https://nbcnews.com/news/world/human-rights-gr...   \n",
       "\n",
       "                           pubs actual_pub  \n",
       "0   politico, realclearpolitics   politico  \n",
       "1   politico, realclearpolitics   politico  \n",
       "2   politico, realclearpolitics   politico  \n",
       "3   politico, realclearpolitics   politico  \n",
       "4   politico, realclearpolitics   politico  \n",
       "..                          ...        ...  \n",
       "68               msnbc, nbcnews    nbcnews  \n",
       "69               msnbc, nbcnews    nbcnews  \n",
       "70               msnbc, nbcnews    nbcnews  \n",
       "71               msnbc, nbcnews    nbcnews  \n",
       "72               msnbc, nbcnews    nbcnews  \n",
       "\n",
       "[73 rows x 3 columns]"
      ]
     },
     "metadata": {},
     "output_type": "display_data"
    }
   ],
   "source": [
    "collect_result = crawler.collect(); display(*collect_result)"
   ]
  },
  {
   "cell_type": "markdown",
   "metadata": {},
   "source": [
    "# 2. 해당 URL의 뉴스를 크롤링한다"
   ]
  },
  {
   "cell_type": "code",
   "execution_count": 5,
   "metadata": {
    "scrolled": true
   },
   "outputs": [
    {
     "name": "stdout",
     "output_type": "stream",
     "text": [
      "100.00% (212.79 seconds): Crawling... yahoo               \n",
      "\n"
     ]
    },
    {
     "data": {
      "text/html": [
       "<div>\n",
       "<style scoped>\n",
       "    .dataframe tbody tr th:only-of-type {\n",
       "        vertical-align: middle;\n",
       "    }\n",
       "\n",
       "    .dataframe tbody tr th {\n",
       "        vertical-align: top;\n",
       "    }\n",
       "\n",
       "    .dataframe thead tr th {\n",
       "        text-align: left;\n",
       "    }\n",
       "</style>\n",
       "<table border=\"1\" class=\"dataframe\">\n",
       "  <thead>\n",
       "    <tr>\n",
       "      <th></th>\n",
       "      <th colspan=\"3\" halign=\"left\">collect</th>\n",
       "      <th colspan=\"3\" halign=\"left\">crawl</th>\n",
       "    </tr>\n",
       "    <tr>\n",
       "      <th></th>\n",
       "      <th>collected</th>\n",
       "      <th>collected_unique</th>\n",
       "      <th>selected</th>\n",
       "      <th>downloaded</th>\n",
       "      <th>trashed</th>\n",
       "      <th>total</th>\n",
       "    </tr>\n",
       "  </thead>\n",
       "  <tbody>\n",
       "    <tr>\n",
       "      <td>all</td>\n",
       "      <td>26112</td>\n",
       "      <td>26039</td>\n",
       "      <td>348</td>\n",
       "      <td>233</td>\n",
       "      <td>115</td>\n",
       "      <td>348</td>\n",
       "    </tr>\n",
       "    <tr>\n",
       "      <td>reuters</td>\n",
       "      <td>1072</td>\n",
       "      <td>1072</td>\n",
       "      <td>43</td>\n",
       "      <td>27</td>\n",
       "      <td>16</td>\n",
       "      <td>43</td>\n",
       "    </tr>\n",
       "    <tr>\n",
       "      <td>investing.com</td>\n",
       "      <td>908</td>\n",
       "      <td>908</td>\n",
       "      <td>38</td>\n",
       "      <td>18</td>\n",
       "      <td>20</td>\n",
       "      <td>38</td>\n",
       "    </tr>\n",
       "    <tr>\n",
       "      <td>yahoo</td>\n",
       "      <td>361</td>\n",
       "      <td>361</td>\n",
       "      <td>37</td>\n",
       "      <td>33</td>\n",
       "      <td>4</td>\n",
       "      <td>37</td>\n",
       "    </tr>\n",
       "    <tr>\n",
       "      <td>dailymail</td>\n",
       "      <td>2740</td>\n",
       "      <td>2740</td>\n",
       "      <td>27</td>\n",
       "      <td>24</td>\n",
       "      <td>3</td>\n",
       "      <td>27</td>\n",
       "    </tr>\n",
       "    <tr>\n",
       "      <td>...</td>\n",
       "      <td>...</td>\n",
       "      <td>...</td>\n",
       "      <td>...</td>\n",
       "      <td>...</td>\n",
       "      <td>...</td>\n",
       "      <td>...</td>\n",
       "    </tr>\n",
       "    <tr>\n",
       "      <td>techcrunch</td>\n",
       "      <td>20</td>\n",
       "      <td>20</td>\n",
       "      <td>0</td>\n",
       "      <td>0</td>\n",
       "      <td>0</td>\n",
       "      <td>0</td>\n",
       "    </tr>\n",
       "    <tr>\n",
       "      <td>morningstar</td>\n",
       "      <td>108</td>\n",
       "      <td>108</td>\n",
       "      <td>0</td>\n",
       "      <td>0</td>\n",
       "      <td>0</td>\n",
       "      <td>0</td>\n",
       "    </tr>\n",
       "    <tr>\n",
       "      <td>bbc</td>\n",
       "      <td>277</td>\n",
       "      <td>277</td>\n",
       "      <td>0</td>\n",
       "      <td>0</td>\n",
       "      <td>0</td>\n",
       "      <td>0</td>\n",
       "    </tr>\n",
       "    <tr>\n",
       "      <td>nbcnews</td>\n",
       "      <td>178</td>\n",
       "      <td>177</td>\n",
       "      <td>0</td>\n",
       "      <td>0</td>\n",
       "      <td>0</td>\n",
       "      <td>0</td>\n",
       "    </tr>\n",
       "    <tr>\n",
       "      <td>cryptonews</td>\n",
       "      <td>328</td>\n",
       "      <td>328</td>\n",
       "      <td>0</td>\n",
       "      <td>0</td>\n",
       "      <td>0</td>\n",
       "      <td>0</td>\n",
       "    </tr>\n",
       "  </tbody>\n",
       "</table>\n",
       "<p>74 rows × 6 columns</p>\n",
       "</div>"
      ],
      "text/plain": [
       "                collect                                crawl              \n",
       "              collected collected_unique selected downloaded trashed total\n",
       "all               26112            26039      348        233     115   348\n",
       "reuters            1072             1072       43         27      16    43\n",
       "investing.com       908              908       38         18      20    38\n",
       "yahoo               361              361       37         33       4    37\n",
       "dailymail          2740             2740       27         24       3    27\n",
       "...                 ...              ...      ...        ...     ...   ...\n",
       "techcrunch           20               20        0          0       0     0\n",
       "morningstar         108              108        0          0       0     0\n",
       "bbc                 277              277        0          0       0     0\n",
       "nbcnews             178              177        0          0       0     0\n",
       "cryptonews          328              328        0          0       0     0\n",
       "\n",
       "[74 rows x 6 columns]"
      ]
     },
     "execution_count": 5,
     "metadata": {},
     "output_type": "execute_result"
    }
   ],
   "source": [
    "crawl_result = crawler.crawl(); crawl_result"
   ]
  },
  {
   "cell_type": "markdown",
   "metadata": {},
   "source": [
    "# 3. 뉴스를 저장한다"
   ]
  },
  {
   "cell_type": "code",
   "execution_count": 6,
   "metadata": {},
   "outputs": [
    {
     "name": "stdout",
     "output_type": "stream",
     "text": [
      "Recording to bigquery storage... done (17.77 seconds)\n"
     ]
    }
   ],
   "source": [
    "crawler.record()"
   ]
  },
  {
   "cell_type": "markdown",
   "metadata": {},
   "source": [
    "# 4. 결과보고"
   ]
  },
  {
   "cell_type": "code",
   "execution_count": 7,
   "metadata": {},
   "outputs": [],
   "source": [
    "crawler.report()"
   ]
  },
  {
   "cell_type": "code",
   "execution_count": null,
   "metadata": {},
   "outputs": [],
   "source": []
  },
  {
   "cell_type": "code",
   "execution_count": null,
   "metadata": {},
   "outputs": [],
   "source": []
  },
  {
   "cell_type": "code",
   "execution_count": null,
   "metadata": {},
   "outputs": [],
   "source": []
  },
  {
   "cell_type": "code",
   "execution_count": null,
   "metadata": {},
   "outputs": [],
   "source": []
  },
  {
   "cell_type": "code",
   "execution_count": 66,
   "metadata": {},
   "outputs": [],
   "source": [
    "from pathlib import Path\n",
    "downloaded = [p.stem for p in Path('newsdata/downloaded').glob('**/*.json')]\n",
    "trashed = [p.stem for p in Path('newsdata/trashed').glob('**/*.json')]"
   ]
  },
  {
   "cell_type": "code",
   "execution_count": 65,
   "metadata": {},
   "outputs": [],
   "source": [
    "for path in list(Path('newsdata/downloaded').glob('**/*.json'))[:10000]:\n",
    "    path.unlink()"
   ]
  },
  {
   "cell_type": "code",
   "execution_count": null,
   "metadata": {},
   "outputs": [],
   "source": []
  },
  {
   "cell_type": "code",
   "execution_count": 53,
   "metadata": {},
   "outputs": [],
   "source": [
    "from pathlib import Path\n",
    "import json\n",
    "import smtplib\n",
    "from email.mime.text import MIMEText\n",
    "from email.mime.multipart import MIMEMultipart\n",
    "from email.header import Header"
   ]
  },
  {
   "cell_type": "code",
   "execution_count": 54,
   "metadata": {},
   "outputs": [
    {
     "data": {
      "text/plain": [
       "{'host': 'smtp.gmail.com',\n",
       " 'from': 'gem763@gmail.com',\n",
       " 'to': ['gem763@gmail.com', 'sejin.kang@hanwha.com'],\n",
       " 'pw': 'kkangse1'}"
      ]
     },
     "execution_count": 54,
     "metadata": {},
     "output_type": "execute_result"
    }
   ],
   "source": [
    "acc_fname = 'smtp_gmail.json'\n",
    "acc = json.loads(Path(acc_fname).read_text()); acc"
   ]
  },
  {
   "cell_type": "code",
   "execution_count": 55,
   "metadata": {},
   "outputs": [],
   "source": [
    "msg = MIMEMultipart('alternative')\n",
    "msg['Subject'] = Header('NEWS CRAWLING REPORT', 'utf-8')\n",
    "msg['From'] = acc['from']\n",
    "msg['To'] = ', '.join(acc['to'])\n",
    "msg.attach(MIMEText(crawler.crawl_summary.to_html(), 'html'))\n",
    "\n",
    "with smtplib.SMTP_SSL(acc['host']) as smtp:\n",
    "    smtp.login(acc['from'], acc['pw'])\n",
    "    smtp.send_message(msg)"
   ]
  },
  {
   "cell_type": "code",
   "execution_count": null,
   "metadata": {},
   "outputs": [],
   "source": []
  },
  {
   "cell_type": "code",
   "execution_count": 1,
   "metadata": {},
   "outputs": [],
   "source": [
    "import pandas as pd"
   ]
  },
  {
   "cell_type": "code",
   "execution_count": 13,
   "metadata": {},
   "outputs": [
    {
     "data": {
      "text/plain": [
       "'2019-11-03 05:39:06'"
      ]
     },
     "execution_count": 13,
     "metadata": {},
     "output_type": "execute_result"
    }
   ],
   "source": [
    "str(pd.Timestamp.utcnow())[:19]"
   ]
  },
  {
   "cell_type": "code",
   "execution_count": 15,
   "metadata": {},
   "outputs": [
    {
     "data": {
      "text/plain": [
       "dict"
      ]
     },
     "execution_count": 15,
     "metadata": {},
     "output_type": "execute_result"
    }
   ],
   "source": [
    "import json\n",
    "type(json.load(open('smtp_gmail.json')))"
   ]
  },
  {
   "cell_type": "code",
   "execution_count": null,
   "metadata": {},
   "outputs": [],
   "source": []
  }
 ],
 "metadata": {
  "kernelspec": {
   "display_name": "Python 3",
   "language": "python",
   "name": "python3"
  },
  "language_info": {
   "codemirror_mode": {
    "name": "ipython",
    "version": 3
   },
   "file_extension": ".py",
   "mimetype": "text/x-python",
   "name": "python",
   "nbconvert_exporter": "python",
   "pygments_lexer": "ipython3",
   "version": "3.7.3"
  }
 },
 "nbformat": 4,
 "nbformat_minor": 2
}
